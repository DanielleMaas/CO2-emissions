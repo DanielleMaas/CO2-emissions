{
  "nbformat": 4,
  "nbformat_minor": 0,
  "metadata": {
    "colab": {
      "provenance": []
    },
    "kernelspec": {
      "name": "python3",
      "display_name": "Python 3"
    },
    "language_info": {
      "name": "python"
    }
  },
  "cells": [
    {
      "cell_type": "code",
      "execution_count": 134,
      "metadata": {
        "id": "NCphbMdLX_kl"
      },
      "outputs": [],
      "source": [
        "import pandas as pd\n",
        "import numpy as np\n",
        "import matplotlib.pyplot as plt\n",
        "from sklearn.linear_model import LinearRegression\n",
        "from scipy import stats"
      ]
    },
    {
      "cell_type": "markdown",
      "source": [
        "**Step 1**: Importing the dataframes for answering the questions\n",
        "\n",
        "---\n",
        "\n",
        "*Question 1:* While selecting the information for answering this question a few choices were made in advance that influence the end result. For example, the assumption was made that a country that used a lot of fossil fuels will probably have a higher output of CO2 per capita. The last step will prove if these two indeed are related to each other and if the usage of fossil fuels can be called one of the biggest predictors of a large CO2 output. Information like the average amount of hours of work per capita per country was not seen as a factor. Maybe it will have its influence, but in advance it was assumed this influence will be small. In short, it was chosen in advance which information would be relevant for the question and which would not. In particular, data has been selected that is known to influence people's ecological footprint, such as the use of fossil fuels or the consumption of meat.\n",
        "\n",
        "*Question 2:* The only dataframe that was necessary to answer question 2 was the dataframe with the CO2 emissions per capita per country.\n",
        "\n",
        "*Question 3:* There was a xlsx file available on Our World in Data with  information about seven kinds of fuel and the price per KWh.\n"
      ],
      "metadata": {
        "id": "_oWv5d8OUhHo"
      }
    },
    {
      "cell_type": "markdown",
      "source": [
        "**Stap 1**: De dataframes importeren om de vragen te beantwoorden\n",
        "\n",
        "---\n",
        "\n",
        "*Vraag 1:* Er zijn bij het selecteren van de informatie al bepaalde keuzes gemaakt die invloed heeft op het eindresultaat. Zo is bijvoorbeeld aangenomen dat een land die veel fossiele brandstoffen verbruikt ook zeer waarschijnlijk een hogere CO2 per hoofd heeft. Tijdens de laatste stap zal blijken of deze twee zaken daadwerkelijk verband met elkaar hebben en of het gebruik van fossiele brandstoffen ook een van de grootste indicatoren kunnen worden genoemd voor een hoge CO2 uitstoot. Het gemiddelde aantal uren aan werktijd per hoofd per land bijvoorbeeld wordt dan weer niet als factor gezien. Het zal mogelijk zijn invloed wel hebben, maar er werd van te voren ingeschat dat dee invloed beperkt zal zijn. Kortom, er is al van te voren gekozen welke informatie relevant was voor de vraagstelling en welke niet. Er is met name data geselecteerd waarvan bekend is dat ze invloed hebben op de ecologische voetafdruk van mensen, zoals aangegeven het gebruik van fossiele brandstoffen of het eten van vlees. \n",
        "\n",
        "*Vraag 2:* De enige dataframe die nodig was om de vraag te kunnen worden was de dataframe met de CO2 uitstoot per hoofd per land. \n",
        "\n",
        "*Question 3:* Er was een xlsx bestand beschikbaar op Our World in data over zeven soorten brandstoffen met de prijs per KWh. \n"
      ],
      "metadata": {
        "id": "6L_wXayzdGKG"
      }
    },
    {
      "cell_type": "code",
      "source": [
        "#Question 1\n",
        "co2percapitadata = pd.read_csv(\"https://raw.githubusercontent.com/DanielleMaas/CO2-emissions/main/CO2%20emissions%20per%20capita.csv\", usecols=[\"Entity\", \"Year\", \"Annual CO₂ emissions (per capita)\"])\n",
        "gdpdata = pd.read_csv(\"https://raw.githubusercontent.com/DanielleMaas/CO2-emissions/main/gdpfile.csv\", usecols=[\"Entity\", \"Year\", \"GDP per capita\"], parse_dates=['Year']).dropna()\n",
        "population = pd.read_csv(\"https://raw.githubusercontent.com/DanielleMaas/CO2-emissions/main/population-and-demography.csv\").iloc[:, :3]\n",
        "meat = pd.read_csv(\"https://raw.githubusercontent.com/DanielleMaas/CO2-emissions/main/dietary-compositions-by-commodity-group.csv\", usecols=[\"Entity\", \"Year\", \"Meat (FAO (2017)) (kilocalories per person per day)\"])\n",
        "dairyandeggs = pd.read_csv(\"https://raw.githubusercontent.com/DanielleMaas/CO2-emissions/main/dietary-compositions-by-commodity-group.csv\", usecols=[\"Entity\", \"Year\", \"Dairy & Eggs (FAO (2017)) (kilocalories per person per day)\"])\n",
        "fossilfuels = pd.read_csv(\"https://raw.githubusercontent.com/DanielleMaas/CO2-emissions/main/fossil-fuels-per-capita.csv\", usecols=[\"Entity\", \"Year\", \"Fossil fuels per capita (kWh)\"])"
      ],
      "metadata": {
        "id": "E8FDJt3kYJTk"
      },
      "execution_count": 135,
      "outputs": []
    },
    {
      "cell_type": "code",
      "source": [
        "#Question 2\n",
        "co2percapitadata2 = pd.read_csv(\"https://raw.githubusercontent.com/DanielleMaas/CO2-emissions/main/CO2%20emissions%20per%20capita.csv\", usecols=[\"Entity\", \"Year\", \"Annual CO₂ emissions (per capita)\"])"
      ],
      "metadata": {
        "id": "TOT_5wt1f-IF"
      },
      "execution_count": 136,
      "outputs": []
    },
    {
      "cell_type": "code",
      "source": [
        "#Question 3\n",
        "xls = \"https://github.com/DanielleMaas/CO2-emissions/raw/main/200605%20IRENADatafileRenewablePowerGenerationCostsin2019v11%20(2).xlsx\"\n",
        "columns = [\"Type\", 2010, 2011, 2012, 2013, 2014, 2015, 2016, 2017, 2018, 2019]\n",
        "\n",
        "solarphotovoltaic = pd.read_excel(xls, \"Figure 1.4\").tail(5)\n",
        "solarphotovoltaic = solarphotovoltaic.iloc[3:4, 1: ]\n",
        "solarphotovoltaic.columns = columns\n",
        "solarphotovoltaic = solarphotovoltaic.replace()\n",
        "\n",
        "onshorewind = pd.read_excel(xls, \"Figure 1.5\").tail(5)\n",
        "onshorewind = onshorewind.iloc[3:4, 1: ]\n",
        "onshorewind.columns = columns\n",
        "\n",
        "offshorewind = pd.read_excel(xls, \"Figure 1.6\").tail(5)\n",
        "offshorewind = offshorewind.iloc[3:4, 1:]\n",
        "offshorewind.columns = columns\n",
        "\n",
        "csp = pd.read_excel(xls, \"Figure 1.7\").tail(6)\n",
        "csp = csp.iloc[3:4, 1: ]\n",
        "csp.columns = columns\n",
        "\n",
        "hydropower = pd.read_excel(xls, \"Figure 1.8\").tail(5)\n",
        "hydropower = hydropower.iloc[3:4, 1: ]\n",
        "hydropower.columns = columns\n",
        "\n",
        "bioenergy = pd.read_excel(xls, \"Figure 1.9\").tail(5)\n",
        "bioenergy = bioenergy.iloc[3:4, 1: ]\n",
        "bioenergy.columns = columns\n",
        "\n",
        "geothermal = pd.read_excel(xls, \"Figure 1.10\").tail(5)\n",
        "geothermal = geothermal.iloc[3:4, 1: ]\n",
        "geothermal.columns = columns"
      ],
      "metadata": {
        "id": "OU8Udc9dlA3X"
      },
      "execution_count": 137,
      "outputs": []
    },
    {
      "cell_type": "markdown",
      "source": [
        "**Step 2**: Cleaning and/or enriching the dataframes with new data\n",
        "\n",
        "---\n",
        "\n",
        "*Question 1:* In order to create a complete final dataframe from all the separate dataframes it was necessary to delete the information from before 1965 from all dataframes. All of them contained 1965 and on and that made it possible to compare the data with each other. \n",
        "\n",
        "*Question 3:* The dataframe geothermal was missing one value. The information from the nearest value is used to fill in the missing value. Since the values in this dataframe are not far apart, it would not change the end result of the analysis too much and give a reliable outcome. \n",
        "\n"
      ],
      "metadata": {
        "id": "ILqhb93yUrjP"
      }
    },
    {
      "cell_type": "markdown",
      "source": [
        "**Stap 2**: De dataframes opschonen en/of verrijken met nieuwe informatie\n",
        "\n",
        "---\n",
        "\n",
        "\n",
        "*Vraag 1*: Om een compleet dataframe te kunnen maken van alle losse dataframes, was het nodig om de informatie van voor 1965 uit een aantal dataframes te halen. Dit omdat  alle ingelezen dataframes 1965 bevatte als jaar en dat maakte het mogelijk om de data met elkaar te vergelijken. \n",
        "\n",
        "*Vraag 3*: De dataframe geothermal miste een waarde. De dichtsbijzijnde volgende waarde is gebruikt om de missende waarde in te kunnen vullen. De waardes in dit dataframe liggen niet ver uit elkaar, waardoor het eindresultaat van de analyse niet te veel verandert en nog steeds zorgt voor een betrouwbaar resultaat. "
      ],
      "metadata": {
        "id": "QVdbZPtqgqSe"
      }
    },
    {
      "cell_type": "code",
      "source": [
        "co2percapitadata = co2percapitadata.loc[co2percapitadata['Year'] >= 1965]\n",
        "gdpdata['Year'] = gdpdata['Year'].astype(int)\n",
        "gdpdata = gdpdata.loc[gdpdata['Year'] >= 1965]\n",
        "population = population.loc[population['Year'] >= 1965]\n",
        "meat = meat.loc[meat['Year'] >= 1965]\n",
        "dairyandeggs = dairyandeggs.loc[dairyandeggs['Year'] >= 1965]\n",
        "fossilfuels = fossilfuels.loc[fossilfuels['Year'] >= 1965]\n",
        "\n",
        "def columnrename(dataframe):\n",
        "  dataframe = dataframe.rename(columns={'Entity': 'Country', 'Country name': 'Country'}).reset_index(drop=True)\n",
        "  return dataframe\n",
        "\n",
        "co2percapitadata = columnrename(co2percapitadata)\n",
        "gdpdata = columnrename(gdpdata)\n",
        "population = columnrename(population)\n",
        "meat = columnrename(meat)\n",
        "dairyandeggs = columnrename(dairyandeggs)\n",
        "fossilfuels = columnrename(fossilfuels)\n",
        "\n",
        "finaldf = pd.merge(co2percapitadata, gdpdata, on=[\"Country\", \"Year\"])\n",
        "finaldf = pd.merge(finaldf, population, on=[\"Country\", \"Year\"])\n",
        "finaldf = pd.merge(finaldf, meat, on=[\"Country\", \"Year\"])\n",
        "finaldf = pd.merge(finaldf, dairyandeggs, on=[\"Country\", \"Year\"])\n",
        "finaldf = pd.merge(finaldf, fossilfuels, on=[\"Country\", \"Year\"])"
      ],
      "metadata": {
        "id": "h9ywlJ20VjEc"
      },
      "execution_count": 138,
      "outputs": []
    },
    {
      "cell_type": "code",
      "source": [
        "geothermal = geothermal.ffill(axis = 1)"
      ],
      "metadata": {
        "id": "ZaI-tRjGMPrL"
      },
      "execution_count": 139,
      "outputs": []
    },
    {
      "cell_type": "markdown",
      "source": [
        "# Question 1: What is the biggest predictor of a large CO2 output per capita of a country?\n",
        "\n",
        "This question will be answered by looking at the largest correlation between a dataframe containing the CO2 emissions per country per year and various other dataframes. Even though a correlation might not mean that one value directly influences another, it does give a good indication which factors may contribute to a large CO2 output. \n",
        "\n",
        "# Vraag 1: Wat is de grootste indicator van een hoge C02 uitstoot per hoofd? \n",
        "\n",
        "Deze vraag zal beantwoord worden door na de correlatie te kijken tussen de dataframe die de C02 uitstoot per hoofd per jaar bevat en verschillende andere dataframes. Ook al betekent een correlatie niet direct dat een bepaalde waarde direct invloed heeft op een andere waarde, geeft het wel een goede indicatie welke factoren bijdragen aan een hoge CO2 uitstoot. "
      ],
      "metadata": {
        "id": "2xI8CR9mdyIF"
      }
    },
    {
      "cell_type": "code",
      "source": [
        "co2 = finaldf.loc[:, \"Annual CO₂ emissions (per capita)\"]\n",
        "finaldf[\"corrco2\"] = finaldf.loc[: , \"Annual CO₂ emissions (per capita)\"].corr(co2)\n",
        "finaldf[\"GDP\"] = finaldf.loc[: , \"GDP per capita\"].corr(co2)\n",
        "finaldf[\"Size of Population\"] = finaldf.loc[: , \"Population\"].corr(co2)\n",
        "finaldf[\"Meat\"] = finaldf.loc[: , \"Meat (FAO (2017)) (kilocalories per person per day)\"].corr(co2)\n",
        "finaldf[\"Dairy and eggs\"] = finaldf.loc[: , \"Dairy & Eggs (FAO (2017)) (kilocalories per person per day)\"].corr(co2)\n",
        "finaldf[\"Fossil fuels\"] = finaldf.loc[: , \"Fossil fuels per capita (kWh)\"].corr(co2)\n",
        "finaldf = finaldf.iloc[1:2 , 8:]"
      ],
      "metadata": {
        "id": "WskDhutDn9oh"
      },
      "execution_count": 140,
      "outputs": []
    },
    {
      "cell_type": "code",
      "source": [
        "fig, ax = plt.subplots()\n",
        "\n",
        "correlations = finaldf.columns[1:]\n",
        "for index, row in finaldf.iterrows():\n",
        "  plt.plot(correlations, row[1:], label=row[0])\n",
        "\n",
        "plt.title(\"Correlation coefficient with CO2 emissions per factor\")\n",
        "plt.xlabel(\"Factors\")\n",
        "plt.ylabel(\"Correlation coefficient\")\n",
        "plt.grid()\n",
        "\n",
        "plt.show()"
      ],
      "metadata": {
        "colab": {
          "base_uri": "https://localhost:8080/",
          "height": 472
        },
        "id": "b9RCCUBPr1Mn",
        "outputId": "718f6f96-1903-4a9f-919a-03cad6b1d3a6"
      },
      "execution_count": 142,
      "outputs": [
        {
          "output_type": "display_data",
          "data": {
            "text/plain": [
              "<Figure size 640x480 with 1 Axes>"
            ],
            "image/png": "[encoded data removed]"
          },
          "metadata": {}
        }
      ]
    },
    {
      "cell_type": "markdown",
      "source": [
        "# Answer to question 1: \n",
        "The following possible contributing factors were taken into account:\n",
        "- The GDP of a country\n",
        "- The size of the population\n",
        "- The amount of meat that is consumed in a country\n",
        "- The amount of dairy and eggs that is consumed in a country\n",
        "- De amount of fossil fuels that is consumed in a country\n",
        "\n",
        "The size of the population seems to have very little to do with the CO2 emissions of a country and the calculation shows a value of -0,11. The GDP and the amount of fossil fuels a country uses have the most effect, they respectively have a value of 0,463 and 0,628. "
      ],
      "metadata": {
        "id": "jLCfGaxolZ09"
      }
    },
    {
      "cell_type": "markdown",
      "source": [
        "# Antwoord op vraag 1: \n",
        "De volgende factoren die mogelijk van invloed zijn op de CO2 uitstoot zijn meegenomen: \n",
        "- Het nationaal bruto product van een land\n",
        "- De grootte van de bevolking\n",
        "- De hoeveelheid vlees dat er in een land gegeten wordt\n",
        "- De hoeveel melk en eieren dat gegeten wordt\n",
        "- De hoeveel fossiele brandstoffen dat een land gebruikt\n",
        "\n",
        "De grootte van de bevolking lijkt weinig te maken te hebben met de CO2 uitstoot van een land en de berekening laat ook een waarde van -0,11 zien. Het meest effect heeft het nationaal bruto product (waarde van 0,463) en de hoeveelheid fossiele brandstoffen dat een land gebruikt (0,628)."
      ],
      "metadata": {
        "id": "Vpz8tiGXkVbd"
      }
    },
    {
      "cell_type": "markdown",
      "source": [
        "#Question 2: Which countries are making the biggest strides in decreasing CO2 output?\n",
        "\n",
        "In order to be able to measure which countries are improving, you need a starting point. Ideally this is the point where Co2 emissions were at its highest, so that you can measure which countries decreased their output the most. The following was done to find a starting point:  \n",
        "\n",
        "* In the dataframe the CO2 emissions worldwide were summed up per year\n",
        "* The function nlargest was applied to find the year were the co2 emissions were at its highest globally (that was in 1991) \n",
        "\n",
        "The end point was 2021, the last point in the dataframe. \n",
        "\n"
      ],
      "metadata": {
        "id": "_9mSaOXUhMtX"
      }
    },
    {
      "cell_type": "markdown",
      "source": [
        "# Vraag 2: Welke landen maken de grootste vooruitgang in het verminderen van de CO2 uitstoot? \n",
        "\n",
        "Om te kunnen meten welke landen zich aan het verbeteren zijn, heb je een startpunt nodig om te meten. Bij voorkeur is dat het punt waarop de CO2 uitstoot wereldwijd op z'n hoogst was, zodat je kunt meten welke landen sindsdien hun uitstoot het meest hebben vermindert. Het volgende is gedaan om een startpunt te vinden: \n",
        "\n",
        "\n",
        "*   In het dataframe is de CO2 uitstoot van elk land per jaar opgeteld\n",
        "*   De functie nlargest was toegepast om het jaar te vinden waar de CO2 uitstoot op z'n hoogst was en dat was in 1991.\n",
        "\n",
        "Het laatste meetpunt in de dataframe was 2021. \n",
        "\n"
      ],
      "metadata": {
        "id": "wShztdpfl_cl"
      }
    },
    {
      "cell_type": "code",
      "source": [
        "grouped = co2percapitadata2.groupby([\"Year\"])\n",
        "sumofco2 = grouped[\"Annual CO₂ emissions (per capita)\"].sum()\n",
        "sumofco2.nlargest(1)\n",
        "\n",
        "co2percapitadata2[\"Annual CO₂ emissions (per capita)\"] = co2percapitadata[\"Annual CO₂ emissions (per capita)\"].astype(float)\n",
        "dataof1991 = co2percapitadata2.loc[co2percapitadata2['Year'] == 1991]\n",
        "dataof2021 = co2percapitadata2.loc[co2percapitadata2['Year'] == 2021]\n",
        "\n",
        "merged = pd.merge(dataof1991, dataof2021, on=[\"Entity\"])\n",
        "\n",
        "emissionsof1991 = merged.loc[: , [\"Annual CO₂ emissions (per capita)_x\"]]\n",
        "emissionsof2021 = merged.loc[: , [\"Annual CO₂ emissions (per capita)_y\"]]\n",
        "merged[\"Difference\"] = merged[\"Annual CO₂ emissions (per capita)_y\"] - merged[\"Annual CO₂ emissions (per capita)_x\"]\n",
        "merged = merged.sort_values(\"Difference\")\n",
        "topfive = merged.head(5)\n"
      ],
      "metadata": {
        "id": "92qAuoFchT9O"
      },
      "execution_count": 143,
      "outputs": []
    },
    {
      "cell_type": "code",
      "source": [
        "fig, ax = plt.subplots()\n",
        "\n",
        "Entity = topfive.loc[:, \"Entity\"]\n",
        "difference= topfive.loc[:,\"Difference\"]\n",
        "ax.barh(Entity, difference)\n",
        "plt.xlabel(\"Decrease\")\n",
        "plt.ylabel(\"Entity\")\n",
        "ax.grid(True, axis=\"x\") \n",
        "plt.title(\"Top five entities in decreasing their CO2 emissions between 1991 and 2021\")\n",
        "plt.show()\n",
        "\n"
      ],
      "metadata": {
        "colab": {
          "base_uri": "https://localhost:8080/",
          "height": 472
        },
        "id": "PLOADhB6nR3W",
        "outputId": "e21f9697-3747-43b2-d1c8-6197aa77b8ba"
      },
      "execution_count": 144,
      "outputs": [
        {
          "output_type": "display_data",
          "data": {
            "text/plain": [
              "<Figure size 640x480 with 1 Axes>"
            ],
            "image/png": "[encoded data removed]"
          },
          "metadata": {}
        }
      ]
    },
    {
      "cell_type": "markdown",
      "source": [
        "# Answer to question 2: \n",
        "The figure shows that the following countries made the biggest strides between 1991 and 2021: \n",
        "\n",
        "* Angola\n",
        "*   Israel\n",
        "*   Bulgaria\n",
        "*   Czechia\n",
        "*   Argentina\n",
        "\n"
      ],
      "metadata": {
        "id": "ALawZTVir7D2"
      }
    },
    {
      "cell_type": "markdown",
      "source": [
        "# Antwoord op vraag 2:\n",
        "De grafiek laat zien dat de volgende landen de grootste stappen hebben gemaakt tussen 1991 en 2021:\n",
        "\n",
        "\n",
        "\n",
        "*   Angola\n",
        "*   Israel\n",
        "*   Bulgarije\n",
        "*   Tsjechië\n",
        "*   Argentinië\n",
        "\n",
        "\n",
        "\n",
        "\n",
        "\n"
      ],
      "metadata": {
        "id": "pchdthiDmra6"
      }
    },
    {
      "cell_type": "markdown",
      "source": [
        "#Question 3: Which non-fossil fuel energy technology will have the best price in the future?\n",
        "\n",
        "This question is answered by defining a function and applying to every non fossil fuel in the xlsx file. The function makes a prediction based on the already known data using linear regression. "
      ],
      "metadata": {
        "id": "xKdSMBHpsS5z"
      }
    },
    {
      "cell_type": "markdown",
      "source": [
        "# Vraag 3: Welke niet fossiele brandstof zal de beste prijs hebben in de toekomst? \n",
        "\n",
        "Deze vraag is beantwoord door een functie te definiëren en dit toe te passen op elke niet fossiele brandstof in het xlsx bestand. De functie maakt op basis van de al bekende gegevens met behulp van lineaire regressie een voorspelling. "
      ],
      "metadata": {
        "id": "JK0IBCcDm_GC"
      }
    },
    {
      "cell_type": "code",
      "source": [
        "def prediction(dataframe):\n",
        "  dataframe = dataframe.iloc[: , 1: ]\n",
        "  x = dataframe.columns.values.reshape(-1, 1)\n",
        "  y = dataframe.iloc[:].values.reshape(-1, 1)\n",
        "  linear_regressor = LinearRegression()\n",
        "  linear_regressor.fit(x, y)\n",
        "  predictionx = [[2050]]\n",
        "  predictiony = linear_regressor.predict(predictionx)\n",
        "  return predictiony\n",
        "\n",
        "solarphotovoltaicpredict = prediction(solarphotovoltaic)\n",
        "onshorewindpredict = prediction(onshorewind)\n",
        "offshorewindpredict = prediction(offshorewind)\n",
        "csppredict = prediction(csp)\n",
        "hydropowerpredict = prediction(hydropower)\n",
        "bioenergypredict = prediction(bioenergy)\n",
        "geothermalpredict = prediction(geothermal)\n",
        "\n",
        "cost = [solarphotovoltaicpredict, onshorewindpredict, offshorewindpredict, csppredict, hydropowerpredict, bioenergypredict, geothermalpredict]\n",
        "sort = [\"Solar Photovoltaic\", \"Onshore wind\", \"Offshore wind\", \"CSP\", \"Hydropower\", \"Bioenergy\", \"Geothermal\"]\n",
        "\n",
        "predictions = pd.DataFrame({'sort':sort, 'cost': cost})\n",
        "predictions"
      ],
      "metadata": {
        "colab": {
          "base_uri": "https://localhost:8080/",
          "height": 269
        },
        "id": "emQ5XA0p6jad",
        "outputId": "d5daa105-202d-4da4-982c-f0774818225f"
      },
      "execution_count": 145,
      "outputs": [
        {
          "output_type": "execute_result",
          "data": {
            "text/plain": [
              "                 sort                       cost\n",
              "0  Solar Photovoltaic    [[-0.9296387878787868]]\n",
              "1        Onshore wind  [[-0.061824242424242115]]\n",
              "2       Offshore wind     [[-0.055327272727272]]\n",
              "3                 CSP    [[-0.3844121212121223]]\n",
              "4          Hydropower    [[0.10021354729678666]]\n",
              "5           Bioenergy   [[0.056511178012087826]]\n",
              "6          Geothermal    [[0.13903181340231097]]"
            ],
            "text/html": [
              "\n",
              "  <div id=\"df-41e7110e-53e9-4189-9c12-7ad544b05c2c\">\n",
              "    <div class=\"colab-df-container\">\n",
              "      <div>\n",
              "<style scoped>\n",
              "    .dataframe tbody tr th:only-of-type {\n",
              "        vertical-align: middle;\n",
              "    }\n",
              "\n",
              "    .dataframe tbody tr th {\n",
              "        vertical-align: top;\n",
              "    }\n",
              "\n",
              "    .dataframe thead th {\n",
              "        text-align: right;\n",
              "    }\n",
              "</style>\n",
              "<table border=\"1\" class=\"dataframe\">\n",
              "  <thead>\n",
              "    <tr style=\"text-align: right;\">\n",
              "      <th></th>\n",
              "      <th>sort</th>\n",
              "      <th>cost</th>\n",
              "    </tr>\n",
              "  </thead>\n",
              "  <tbody>\n",
              "    <tr>\n",
              "      <th>0</th>\n",
              "      <td>Solar Photovoltaic</td>\n",
              "      <td>[[-0.9296387878787868]]</td>\n",
              "    </tr>\n",
              "    <tr>\n",
              "      <th>1</th>\n",
              "      <td>Onshore wind</td>\n",
              "      <td>[[-0.061824242424242115]]</td>\n",
              "    </tr>\n",
              "    <tr>\n",
              "      <th>2</th>\n",
              "      <td>Offshore wind</td>\n",
              "      <td>[[-0.055327272727272]]</td>\n",
              "    </tr>\n",
              "    <tr>\n",
              "      <th>3</th>\n",
              "      <td>CSP</td>\n",
              "      <td>[[-0.3844121212121223]]</td>\n",
              "    </tr>\n",
              "    <tr>\n",
              "      <th>4</th>\n",
              "      <td>Hydropower</td>\n",
              "      <td>[[0.10021354729678666]]</td>\n",
              "    </tr>\n",
              "    <tr>\n",
              "      <th>5</th>\n",
              "      <td>Bioenergy</td>\n",
              "      <td>[[0.056511178012087826]]</td>\n",
              "    </tr>\n",
              "    <tr>\n",
              "      <th>6</th>\n",
              "      <td>Geothermal</td>\n",
              "      <td>[[0.13903181340231097]]</td>\n",
              "    </tr>\n",
              "  </tbody>\n",
              "</table>\n",
              "</div>\n",
              "      <button class=\"colab-df-convert\" onclick=\"convertToInteractive('df-41e7110e-53e9-4189-9c12-7ad544b05c2c')\"\n",
              "              title=\"Convert this dataframe to an interactive table.\"\n",
              "              style=\"display:none;\">\n",
              "        \n",
              "  <svg xmlns=\"http://www.w3.org/2000/svg\" height=\"24px\"viewBox=\"0 0 24 24\"\n",
              "       width=\"24px\">\n",
              "    <path d=\"M0 0h24v24H0V0z\" fill=\"none\"/>\n",
              "    <path d=\"M18.56 5.44l.94 2.06.94-2.06 2.06-.94-2.06-.94-.94-2.06-.94 2.06-2.06.94zm-11 1L8.5 8.5l.94-2.06 2.06-.94-2.06-.94L8.5 2.5l-.94 2.06-2.06.94zm10 10l.94 2.06.94-2.06 2.06-.94-2.06-.94-.94-2.06-.94 2.06-2.06.94z\"/><path d=\"M17.41 7.96l-1.37-1.37c-.4-.4-.92-.59-1.43-.59-.52 0-1.04.2-1.43.59L10.3 9.45l-7.72 7.72c-.78.78-.78 2.05 0 2.83L4 21.41c.39.39.9.59 1.41.59.51 0 1.02-.2 1.41-.59l7.78-7.78 2.81-2.81c.8-.78.8-2.07 0-2.86zM5.41 20L4 18.59l7.72-7.72 1.47 1.35L5.41 20z\"/>\n",
              "  </svg>\n",
              "      </button>\n",
              "      \n",
              "  <style>\n",
              "    .colab-df-container {\n",
              "      display:flex;\n",
              "      flex-wrap:wrap;\n",
              "      gap: 12px;\n",
              "    }\n",
              "\n",
              "    .colab-df-convert {\n",
              "      background-color: #E8F0FE;\n",
              "      border: none;\n",
              "      border-radius: 50%;\n",
              "      cursor: pointer;\n",
              "      display: none;\n",
              "      fill: #1967D2;\n",
              "      height: 32px;\n",
              "      padding: 0 0 0 0;\n",
              "      width: 32px;\n",
              "    }\n",
              "\n",
              "    .colab-df-convert:hover {\n",
              "      background-color: #E2EBFA;\n",
              "      box-shadow: 0px 1px 2px rgba(60, 64, 67, 0.3), 0px 1px 3px 1px rgba(60, 64, 67, 0.15);\n",
              "      fill: #174EA6;\n",
              "    }\n",
              "\n",
              "    [theme=dark] .colab-df-convert {\n",
              "      background-color: #3B4455;\n",
              "      fill: #D2E3FC;\n",
              "    }\n",
              "\n",
              "    [theme=dark] .colab-df-convert:hover {\n",
              "      background-color: #434B5C;\n",
              "      box-shadow: 0px 1px 3px 1px rgba(0, 0, 0, 0.15);\n",
              "      filter: drop-shadow(0px 1px 2px rgba(0, 0, 0, 0.3));\n",
              "      fill: #FFFFFF;\n",
              "    }\n",
              "  </style>\n",
              "\n",
              "      <script>\n",
              "        const buttonEl =\n",
              "          document.querySelector('#df-41e7110e-53e9-4189-9c12-7ad544b05c2c button.colab-df-convert');\n",
              "        buttonEl.style.display =\n",
              "          google.colab.kernel.accessAllowed ? 'block' : 'none';\n",
              "\n",
              "        async function convertToInteractive(key) {\n",
              "          const element = document.querySelector('#df-41e7110e-53e9-4189-9c12-7ad544b05c2c');\n",
              "          const dataTable =\n",
              "            await google.colab.kernel.invokeFunction('convertToInteractive',\n",
              "                                                     [key], {});\n",
              "          if (!dataTable) return;\n",
              "\n",
              "          const docLinkHtml = 'Like what you see? Visit the ' +\n",
              "            '<a target=\"_blank\" href=https://colab.research.google.com/notebooks/data_table.ipynb>data table notebook</a>'\n",
              "            + ' to learn more about interactive tables.';\n",
              "          element.innerHTML = '';\n",
              "          dataTable['output_type'] = 'display_data';\n",
              "          await google.colab.output.renderOutput(dataTable, element);\n",
              "          const docLink = document.createElement('div');\n",
              "          docLink.innerHTML = docLinkHtml;\n",
              "          element.appendChild(docLink);\n",
              "        }\n",
              "      </script>\n",
              "    </div>\n",
              "  </div>\n",
              "  "
            ]
          },
          "metadata": {},
          "execution_count": 145
        }
      ]
    },
    {
      "cell_type": "code",
      "source": [
        "#For the purpose of making the graph below readable, some of the types of energies were renamed.\n",
        "#Met het doel om de grafiek hieronder leesbaar te maken zijn een aantal energiesoorten afgekort. \n",
        "predictions = predictions.replace(\"Solar Photovoltaic\", \"SP\")\n",
        "predictions = predictions.replace(\"Onshore wind\", \"OnW\")\n",
        "predictions = predictions.replace(\"Offshore wind\", \"OffW\")\n",
        "predictions = predictions.replace(\"Hydropower\", \"HP\")\n",
        "predictions = predictions.replace(\"Bioenergy\", \"Bio\")\n",
        "predictions = predictions.replace(\"Geothermal\", \"Geo\")"
      ],
      "metadata": {
        "id": "IZj9GyWi7nXX",
        "colab": {
          "base_uri": "https://localhost:8080/"
        },
        "outputId": "ad748345-d022-4b38-f657-677799d6f5f1"
      },
      "execution_count": 146,
      "outputs": [
        {
          "output_type": "stream",
          "name": "stderr",
          "text": [
            "/usr/local/lib/python3.10/dist-packages/pandas/core/missing.py:95: FutureWarning: elementwise comparison failed; returning scalar instead, but in the future will perform elementwise comparison\n",
            "  new_mask = arr == x\n"
          ]
        }
      ]
    },
    {
      "cell_type": "code",
      "source": [
        "fig, ax = plt.subplots()\n",
        "x = predictions.loc[:, \"sort\"]\n",
        "y = predictions.loc[:, \"cost\"]\n",
        "ax.stem(x, y)\n",
        "ax.grid(True, axis=\"y\") \n",
        "plt.show()"
      ],
      "metadata": {
        "colab": {
          "base_uri": "https://localhost:8080/",
          "height": 430
        },
        "id": "8ThF9wY853ZG",
        "outputId": "5efe1625-afab-4530-c5c2-b9ba7f667c8c"
      },
      "execution_count": 147,
      "outputs": [
        {
          "output_type": "display_data",
          "data": {
            "text/plain": [
              "<Figure size 640x480 with 1 Axes>"
            ],
            "image/png": "[encoded data removed]"
          },
          "metadata": {}
        }
      ]
    },
    {
      "cell_type": "markdown",
      "source": [
        "# Answer to question 3: \n",
        "The predictions show that Solar Photovoltaic will be the cheapest in the future: -0,93 US dollars per kWh. Geothermal is going to be the most expensive: 0.139 US dollar per kWh. "
      ],
      "metadata": {
        "id": "5ozLq_m_EzmL"
      }
    },
    {
      "cell_type": "markdown",
      "source": [
        "# Antwoord op vraag 3:\n",
        "De voorspellingen laten zien dat fotovoltaïsche zonne-energie het goedkoopste zal zijn in de toekomst: -0,93 Amerikaanse dollars per kilowattuur. Geothermische energie zal het duurste zijn: 0,139 Amerikaanse dollars per kilowattuur. "
      ],
      "metadata": {
        "id": "wsILvEfRo1iP"
      }
    }
  ]
}